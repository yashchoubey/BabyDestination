{
 "cells": [
  {
   "cell_type": "code",
   "execution_count": 21,
   "metadata": {},
   "outputs": [
    {
     "data": {
      "text/html": [
       "<div>\n",
       "<style scoped>\n",
       "    .dataframe tbody tr th:only-of-type {\n",
       "        vertical-align: middle;\n",
       "    }\n",
       "\n",
       "    .dataframe tbody tr th {\n",
       "        vertical-align: top;\n",
       "    }\n",
       "\n",
       "    .dataframe thead th {\n",
       "        text-align: right;\n",
       "    }\n",
       "</style>\n",
       "<table border=\"1\" class=\"dataframe\">\n",
       "  <thead>\n",
       "    <tr style=\"text-align: right;\">\n",
       "      <th></th>\n",
       "      <th>Life Stage</th>\n",
       "      <th>Life Stage.1</th>\n",
       "      <th>Categories</th>\n",
       "      <th>Post Name</th>\n",
       "      <th>Word Count</th>\n",
       "      <th>Reach</th>\n",
       "      <th>Link Clicks</th>\n",
       "      <th>Avg time in secs</th>\n",
       "      <th>GA read more clicked on post</th>\n",
       "    </tr>\n",
       "  </thead>\n",
       "  <tbody>\n",
       "    <tr>\n",
       "      <th>0</th>\n",
       "      <td>2y-4y|4y+</td>\n",
       "      <td>NaN</td>\n",
       "      <td>Parenting</td>\n",
       "      <td>How to Teach Your Boys to Become Great Men</td>\n",
       "      <td>1166.0</td>\n",
       "      <td>35953</td>\n",
       "      <td>1023</td>\n",
       "      <td>62</td>\n",
       "      <td>570</td>\n",
       "    </tr>\n",
       "    <tr>\n",
       "      <th>1</th>\n",
       "      <td>0m-6m|7m-12m</td>\n",
       "      <td>NaN</td>\n",
       "      <td>Health</td>\n",
       "      <td>Home Remedies to Treat Heat Rash in Babies</td>\n",
       "      <td>614.0</td>\n",
       "      <td>30299</td>\n",
       "      <td>532</td>\n",
       "      <td>86</td>\n",
       "      <td>293</td>\n",
       "    </tr>\n",
       "    <tr>\n",
       "      <th>2</th>\n",
       "      <td>-9</td>\n",
       "      <td>NaN</td>\n",
       "      <td>Pregnant</td>\n",
       "      <td>Is It Safe To Get Waxed During Pregnancy?</td>\n",
       "      <td>599.0</td>\n",
       "      <td>38459</td>\n",
       "      <td>978</td>\n",
       "      <td>56</td>\n",
       "      <td>528</td>\n",
       "    </tr>\n",
       "    <tr>\n",
       "      <th>3</th>\n",
       "      <td>4y+</td>\n",
       "      <td>NaN</td>\n",
       "      <td>Parenting</td>\n",
       "      <td>Parenting Adult Children| How to keep the Bond...</td>\n",
       "      <td>1111.0</td>\n",
       "      <td>21302</td>\n",
       "      <td>372</td>\n",
       "      <td>81</td>\n",
       "      <td>180</td>\n",
       "    </tr>\n",
       "    <tr>\n",
       "      <th>4</th>\n",
       "      <td>7m-12m|1y-2y|2y-4y|4y+</td>\n",
       "      <td>NaN</td>\n",
       "      <td>Activities</td>\n",
       "      <td>Top 10 Kids’ Play Areas in Delhi</td>\n",
       "      <td>1220.0</td>\n",
       "      <td>12453</td>\n",
       "      <td>423</td>\n",
       "      <td>79</td>\n",
       "      <td>306</td>\n",
       "    </tr>\n",
       "  </tbody>\n",
       "</table>\n",
       "</div>"
      ],
      "text/plain": [
       "               Life Stage  Life Stage.1  Categories  \\\n",
       "0               2y-4y|4y+           NaN   Parenting   \n",
       "1            0m-6m|7m-12m           NaN      Health   \n",
       "2                      -9           NaN    Pregnant   \n",
       "3                     4y+           NaN   Parenting   \n",
       "4  7m-12m|1y-2y|2y-4y|4y+           NaN  Activities   \n",
       "\n",
       "                                           Post Name  Word Count  Reach  \\\n",
       "0         How to Teach Your Boys to Become Great Men      1166.0  35953   \n",
       "1         Home Remedies to Treat Heat Rash in Babies       614.0  30299   \n",
       "2          Is It Safe To Get Waxed During Pregnancy?       599.0  38459   \n",
       "3  Parenting Adult Children| How to keep the Bond...      1111.0  21302   \n",
       "4                   Top 10 Kids’ Play Areas in Delhi      1220.0  12453   \n",
       "\n",
       "   Link Clicks  Avg time in secs  GA read more clicked on post  \n",
       "0         1023                62                           570  \n",
       "1          532                86                           293  \n",
       "2          978                56                           528  \n",
       "3          372                81                           180  \n",
       "4          423                79                           306  "
      ]
     },
     "execution_count": 21,
     "metadata": {},
     "output_type": "execute_result"
    }
   ],
   "source": [
    "import pandas as pd\n",
    "df = pd.read_excel('Data Analyst Test.xlsx', sheet_name=2,shuffle=False)\n",
    "df.head()\n",
    "# df['Date'] =pd.to_datetime(df.Date)\n",
    "# df=df.drop(df.index[338:])\n",
    "# label=df['Likes']"
   ]
  },
  {
   "cell_type": "code",
   "execution_count": 22,
   "metadata": {},
   "outputs": [],
   "source": [
    "# import matplotlib.pyplot as plt\n",
    "# plt.plot(df['GA read more clicked on post'], df['Word Count'],marker='o',linestyle = 'None',)\n",
    "# plt.xlabel('GA read more clicked on post')\n",
    "# plt.ylabel('Word Count')\n",
    "# plt.show()\n",
    "# plt.plot(df['GA read more clicked on post'], df['Reach'],marker='o',linestyle = 'None',)\n",
    "# plt.xlabel('GA read more clicked on post')\n",
    "# plt.ylabel('Reach')\n",
    "# plt.show()\n",
    "# plt.plot(df['GA read more clicked on post'],df['Link Clicks'] ,marker='o',linestyle = 'None',)\n",
    "# plt.xlabel('GA read more clicked on post')\n",
    "# plt.ylabel('Link Clicks')\n",
    "# plt.show()\n",
    "# plt.plot(df['GA read more clicked on post'], df['Avg time in secs'],marker='o',linestyle = 'None',)\n",
    "# plt.xlabel('GA read more clicked on post')\n",
    "# plt.ylabel('Avg time in secs')\n",
    "# plt.show()"
   ]
  },
  {
   "cell_type": "code",
   "execution_count": 23,
   "metadata": {},
   "outputs": [],
   "source": [
    "df.drop(['Life Stage','Life Stage.1','Post Name','Word Count','Reach', 'Link Clicks','Avg time in secs'], axis=1, inplace=True)"
   ]
  },
  {
   "cell_type": "code",
   "execution_count": 24,
   "metadata": {},
   "outputs": [
    {
     "data": {
      "text/html": [
       "<div>\n",
       "<style scoped>\n",
       "    .dataframe tbody tr th:only-of-type {\n",
       "        vertical-align: middle;\n",
       "    }\n",
       "\n",
       "    .dataframe tbody tr th {\n",
       "        vertical-align: top;\n",
       "    }\n",
       "\n",
       "    .dataframe thead th {\n",
       "        text-align: right;\n",
       "    }\n",
       "</style>\n",
       "<table border=\"1\" class=\"dataframe\">\n",
       "  <thead>\n",
       "    <tr style=\"text-align: right;\">\n",
       "      <th></th>\n",
       "      <th>Categories</th>\n",
       "      <th>GA read more clicked on post</th>\n",
       "    </tr>\n",
       "  </thead>\n",
       "  <tbody>\n",
       "    <tr>\n",
       "      <th>0</th>\n",
       "      <td>Parenting</td>\n",
       "      <td>570</td>\n",
       "    </tr>\n",
       "    <tr>\n",
       "      <th>1</th>\n",
       "      <td>Health</td>\n",
       "      <td>293</td>\n",
       "    </tr>\n",
       "    <tr>\n",
       "      <th>2</th>\n",
       "      <td>Pregnant</td>\n",
       "      <td>528</td>\n",
       "    </tr>\n",
       "    <tr>\n",
       "      <th>3</th>\n",
       "      <td>Parenting</td>\n",
       "      <td>180</td>\n",
       "    </tr>\n",
       "    <tr>\n",
       "      <th>4</th>\n",
       "      <td>Activities</td>\n",
       "      <td>306</td>\n",
       "    </tr>\n",
       "  </tbody>\n",
       "</table>\n",
       "</div>"
      ],
      "text/plain": [
       "   Categories  GA read more clicked on post\n",
       "0   Parenting                           570\n",
       "1      Health                           293\n",
       "2    Pregnant                           528\n",
       "3   Parenting                           180\n",
       "4  Activities                           306"
      ]
     },
     "execution_count": 24,
     "metadata": {},
     "output_type": "execute_result"
    }
   ],
   "source": [
    "df.head()"
   ]
  },
  {
   "cell_type": "code",
   "execution_count": 25,
   "metadata": {},
   "outputs": [],
   "source": [
    "df= df.groupby('Categories')['GA read more clicked on post'].mean()#[pd.Grouper(key='Categories'), 'content type']).sum()\n",
    "\n",
    "# df.groupby('a')['b'].sum()[1]"
   ]
  },
  {
   "cell_type": "code",
   "execution_count": 26,
   "metadata": {},
   "outputs": [
    {
     "data": {
      "text/plain": [
       "Categories\n",
       "Activities            306.000000\n",
       "Babycare              474.142857\n",
       "Development           489.400000\n",
       "Health                293.000000\n",
       "Health & Hygiene      128.000000\n",
       "Health and Hygiene    805.500000\n",
       "Lactation             617.333333\n",
       "Nutrition             433.000000\n",
       "Parenting             415.888889\n",
       "Pregnant              822.625000\n",
       "celebrity             904.000000\n",
       "Name: GA read more clicked on post, dtype: float64"
      ]
     },
     "execution_count": 26,
     "metadata": {},
     "output_type": "execute_result"
    }
   ],
   "source": []
  },
  {
   "cell_type": "code",
   "execution_count": 27,
   "metadata": {},
   "outputs": [
    {
     "ename": "KeyError",
     "evalue": "'Categories'",
     "output_type": "error",
     "traceback": [
      "\u001b[0;31m---------------------------------------------------------------------------\u001b[0m",
      "\u001b[0;31mKeyError\u001b[0m                                  Traceback (most recent call last)",
      "\u001b[0;32m<ipython-input-27-d0ab3ef6f20a>\u001b[0m in \u001b[0;36m<module>\u001b[0;34m()\u001b[0m\n\u001b[1;32m      3\u001b[0m \u001b[0;32mimport\u001b[0m \u001b[0mmatplotlib\u001b[0m\u001b[0;34m.\u001b[0m\u001b[0mpyplot\u001b[0m \u001b[0;32mas\u001b[0m \u001b[0mplt\u001b[0m\u001b[0;34m\u001b[0m\u001b[0m\n\u001b[1;32m      4\u001b[0m \u001b[0;34m\u001b[0m\u001b[0m\n\u001b[0;32m----> 5\u001b[0;31m \u001b[0mobjects\u001b[0m \u001b[0;34m=\u001b[0m \u001b[0mdf\u001b[0m\u001b[0;34m[\u001b[0m\u001b[0;34m'Categories'\u001b[0m\u001b[0;34m]\u001b[0m\u001b[0;34m\u001b[0m\u001b[0m\n\u001b[0m\u001b[1;32m      6\u001b[0m \u001b[0my_pos\u001b[0m \u001b[0;34m=\u001b[0m \u001b[0mnp\u001b[0m\u001b[0;34m.\u001b[0m\u001b[0marange\u001b[0m\u001b[0;34m(\u001b[0m\u001b[0mlen\u001b[0m\u001b[0;34m(\u001b[0m\u001b[0mobjects\u001b[0m\u001b[0;34m)\u001b[0m\u001b[0;34m)\u001b[0m\u001b[0;34m\u001b[0m\u001b[0m\n\u001b[1;32m      7\u001b[0m \u001b[0mperformance\u001b[0m \u001b[0;34m=\u001b[0m \u001b[0;34m[\u001b[0m\u001b[0;36m10\u001b[0m\u001b[0;34m,\u001b[0m\u001b[0;36m8\u001b[0m\u001b[0;34m,\u001b[0m\u001b[0;36m6\u001b[0m\u001b[0;34m,\u001b[0m\u001b[0;36m4\u001b[0m\u001b[0;34m,\u001b[0m\u001b[0;36m2\u001b[0m\u001b[0;34m,\u001b[0m\u001b[0;36m1\u001b[0m\u001b[0;34m]\u001b[0m\u001b[0;34m\u001b[0m\u001b[0m\n",
      "\u001b[0;32m/usr/local/lib/python2.7/dist-packages/pandas/core/series.pyc\u001b[0m in \u001b[0;36m__getitem__\u001b[0;34m(self, key)\u001b[0m\n\u001b[1;32m    621\u001b[0m         \u001b[0mkey\u001b[0m \u001b[0;34m=\u001b[0m \u001b[0mcom\u001b[0m\u001b[0;34m.\u001b[0m\u001b[0m_apply_if_callable\u001b[0m\u001b[0;34m(\u001b[0m\u001b[0mkey\u001b[0m\u001b[0;34m,\u001b[0m \u001b[0mself\u001b[0m\u001b[0;34m)\u001b[0m\u001b[0;34m\u001b[0m\u001b[0m\n\u001b[1;32m    622\u001b[0m         \u001b[0;32mtry\u001b[0m\u001b[0;34m:\u001b[0m\u001b[0;34m\u001b[0m\u001b[0m\n\u001b[0;32m--> 623\u001b[0;31m             \u001b[0mresult\u001b[0m \u001b[0;34m=\u001b[0m \u001b[0mself\u001b[0m\u001b[0;34m.\u001b[0m\u001b[0mindex\u001b[0m\u001b[0;34m.\u001b[0m\u001b[0mget_value\u001b[0m\u001b[0;34m(\u001b[0m\u001b[0mself\u001b[0m\u001b[0;34m,\u001b[0m \u001b[0mkey\u001b[0m\u001b[0;34m)\u001b[0m\u001b[0;34m\u001b[0m\u001b[0m\n\u001b[0m\u001b[1;32m    624\u001b[0m \u001b[0;34m\u001b[0m\u001b[0m\n\u001b[1;32m    625\u001b[0m             \u001b[0;32mif\u001b[0m \u001b[0;32mnot\u001b[0m \u001b[0mis_scalar\u001b[0m\u001b[0;34m(\u001b[0m\u001b[0mresult\u001b[0m\u001b[0;34m)\u001b[0m\u001b[0;34m:\u001b[0m\u001b[0;34m\u001b[0m\u001b[0m\n",
      "\u001b[0;32m/usr/local/lib/python2.7/dist-packages/pandas/core/indexes/base.pyc\u001b[0m in \u001b[0;36mget_value\u001b[0;34m(self, series, key)\u001b[0m\n\u001b[1;32m   2572\u001b[0m                     \u001b[0;32mraise\u001b[0m \u001b[0mInvalidIndexError\u001b[0m\u001b[0;34m(\u001b[0m\u001b[0mkey\u001b[0m\u001b[0;34m)\u001b[0m\u001b[0;34m\u001b[0m\u001b[0m\n\u001b[1;32m   2573\u001b[0m                 \u001b[0;32melse\u001b[0m\u001b[0;34m:\u001b[0m\u001b[0;34m\u001b[0m\u001b[0m\n\u001b[0;32m-> 2574\u001b[0;31m                     \u001b[0;32mraise\u001b[0m \u001b[0me1\u001b[0m\u001b[0;34m\u001b[0m\u001b[0m\n\u001b[0m\u001b[1;32m   2575\u001b[0m             \u001b[0;32mexcept\u001b[0m \u001b[0mException\u001b[0m\u001b[0;34m:\u001b[0m  \u001b[0;31m# pragma: no cover\u001b[0m\u001b[0;34m\u001b[0m\u001b[0m\n\u001b[1;32m   2576\u001b[0m                 \u001b[0;32mraise\u001b[0m \u001b[0me1\u001b[0m\u001b[0;34m\u001b[0m\u001b[0m\n",
      "\u001b[0;31mKeyError\u001b[0m: 'Categories'"
     ]
    }
   ],
   "source": [
    "import matplotlib.pyplot as plt; plt.rcdefaults()\n",
    "import numpy as np\n",
    "import matplotlib.pyplot as plt\n",
    " \n",
    "objects = df['Categories']\n",
    "y_pos = np.arange(len(objects))\n",
    "performance = [10,8,6,4,2,1]\n",
    " \n",
    "plt.bar(y_pos, performance, align='center', alpha=0.5)\n",
    "plt.xticks(y_pos, objects)\n",
    "plt.ylabel('Usage')\n",
    "plt.title('Programming language usage')\n",
    " \n",
    "plt.show()"
   ]
  }
 ],
 "metadata": {
  "kernelspec": {
   "display_name": "Python 2",
   "language": "python",
   "name": "python2"
  },
  "language_info": {
   "codemirror_mode": {
    "name": "ipython",
    "version": 2
   },
   "file_extension": ".py",
   "mimetype": "text/x-python",
   "name": "python",
   "nbconvert_exporter": "python",
   "pygments_lexer": "ipython2",
   "version": "2.7.12"
  }
 },
 "nbformat": 4,
 "nbformat_minor": 2
}
